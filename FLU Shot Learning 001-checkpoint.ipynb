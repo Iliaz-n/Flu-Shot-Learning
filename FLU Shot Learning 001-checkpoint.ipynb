{
 "cells": [
  {
   "cell_type": "markdown",
   "id": "ba1beeb3",
   "metadata": {},
   "source": [
    "## Predicting HINI and Seasonal Flu Vaccines Recipient "
   ]
  },
  {
   "cell_type": "markdown",
   "id": "ddea3448",
   "metadata": {
    "tags": []
   },
   "source": [
    "### Import Modules"
   ]
  },
  {
   "cell_type": "code",
   "execution_count": 112,
   "id": "eb9fddf6",
   "metadata": {},
   "outputs": [],
   "source": [
    "import pandas as pd\n",
    "\n",
    "# Visuallization Libraries\n",
    "import matplotlib.pyplot as plt\n",
    "from matplotlib_venn import venn2_unweighted\n",
    "\n",
    "# clf Selection and Pipeline\n",
    "from sklearn.model_selection import train_test_split, cross_val_score, GridSearchCV\n",
    "from sklearn.pipeline import make_pipeline\n",
    "\n",
    "# Preprocessing\n",
    "from sklearn.preprocessing import StandardScaler\n",
    "from sklearn.impute import KNNImputer\n",
    "\n",
    "# Model\n",
    "from sklearn.multioutput import MultiOutputClassifier\n",
    "from sklearn.linear_model import LogisticRegression\n",
    "from sklearn.tree import DecisionTreeClassifier\n",
    "\n",
    "# Metrics\n",
    "from sklearn.metrics import roc_auc_score, roc_curve"
   ]
  },
  {
   "cell_type": "markdown",
   "id": "95ff9992",
   "metadata": {
    "tags": []
   },
   "source": [
    "### Prepare Data"
   ]
  },
  {
   "cell_type": "markdown",
   "id": "693a3754",
   "metadata": {
    "jp-MarkdownHeadingCollapsed": true,
    "tags": []
   },
   "source": [
    "#### Import "
   ]
  },
  {
   "cell_type": "code",
   "execution_count": null,
   "id": "768260c3",
   "metadata": {},
   "outputs": [],
   "source": [
    "df1 = pd.read_csv(\"training_set_features.csv\")\n",
    "df2 = pd.read_csv(\"training_set_labels.csv\")\n",
    "print(\"df1 shape:\", df1.shape)\n",
    "print(\"df2 shape:\", df2.shape)"
   ]
  },
  {
   "cell_type": "code",
   "execution_count": null,
   "id": "32a5931e-8e81-44fa-b111-e40eadc75926",
   "metadata": {},
   "outputs": [],
   "source": [
    "assert df1.index.all() == df2.index.all()"
   ]
  },
  {
   "cell_type": "markdown",
   "id": "c68fa5ee",
   "metadata": {
    "jp-MarkdownHeadingCollapsed": true,
    "tags": []
   },
   "source": [
    "#### Clean and  Explore"
   ]
  },
  {
   "cell_type": "code",
   "execution_count": null,
   "id": "67a506a0",
   "metadata": {
    "scrolled": true,
    "tags": []
   },
   "outputs": [],
   "source": [
    "# Merge the features df to the label frame\n",
    "df = df1.merge(df2, on=\"respondent_id\").set_index(\"respondent_id\")\n",
    "print(df.shape)\n",
    "df.head()"
   ]
  },
  {
   "cell_type": "code",
   "execution_count": null,
   "id": "2353fd7a",
   "metadata": {},
   "outputs": [],
   "source": [
    "# Drop the employment columns (They contain too many null values and are of random characters)\n",
    "mask_employment = [\"employment_occupation\", \"employment_industry\", \"health_insurance\"]\n",
    "\n",
    "df.drop(columns=mask_employment, inplace=True)"
   ]
  },
  {
   "cell_type": "markdown",
   "id": "0c0cc3df",
   "metadata": {
    "tags": []
   },
   "source": [
    "##### Exploratory Data Analysis"
   ]
  },
  {
   "cell_type": "code",
   "execution_count": null,
   "id": "55bd15c3",
   "metadata": {},
   "outputs": [],
   "source": [
    "# To plot the columns with null value \n",
    "nan_columns = []\n",
    "\n",
    "# loop through any columns that contains null value\n",
    "for column in df.columns:\n",
    "    if df[column].isnull().any():\n",
    "        nan_columns.append(column)\n",
    "\n",
    "# Plot the columns that has null values in descending order\n",
    "#(df[nan_columns].isnull().mean() * 100).sort_values().plot(kind=\"barh\");"
   ]
  },
  {
   "cell_type": "code",
   "execution_count": null,
   "id": "0f38fab5",
   "metadata": {},
   "outputs": [],
   "source": [
    "# Check for collinearity\n",
    "corr = df.select_dtypes(\"float\").corr()\n",
    "#corr.style.background_gradient(cmap=\"PuBu\")\n",
    "\n",
    "\"\"\"  It has been shown that the data are not correlated with the \n",
    "     most correlation to be a little bit above average.\n",
    "\"\"\""
   ]
  },
  {
   "cell_type": "markdown",
   "id": "cd9cc8fa",
   "metadata": {
    "tags": []
   },
   "source": [
    "##### Explore attitudes towarads vaccine \n"
   ]
  },
  {
   "cell_type": "code",
   "execution_count": null,
   "id": "9f28dd53",
   "metadata": {},
   "outputs": [],
   "source": [
    "# Columns that contains recipient attitudes towards vaccine \n",
    "columns1 = [items for items in df.columns if \"h1n1\" in items]\n",
    "columns2 = [items for items in df.columns if \"seas\" in items]\n",
    "df_h1n1 = df[columns1]\n",
    "df_seas = df[columns2]"
   ]
  },
  {
   "cell_type": "markdown",
   "id": "05726a45-f092-4b74-9bf9-1fd7cceba29c",
   "metadata": {
    "jp-MarkdownHeadingCollapsed": true,
    "tags": []
   },
   "source": [
    "##### Data Dictionary \n",
    "\n",
    "|h1n1_concern | h1n1_knowledge | doctor_recc_h1n1/seas | opinion_h1n1/seas_risk | opinion_h1n1/seas_sick_from_vacc |\n",
    "|-------------|----------------|-----------------------|------------------------|----------------------------------|\n",
    "|*Level of concern about the H1N1 flu*|*Level of knowledge about H1N1 flu*|*H1N1 flu vaccine was recommended by doctor. (binary)*|*Respondent's opinion about risk of getting sick with H1N1 flu without vaccine*|*Respondent's worry of getting sick from taking H1N1 vaccine*|*Respondent's opinion about risk of getting sick with seasonal flu without vaccine*|*Seasonal flu vaccine was recommended by doctor. (binary)*|\n",
    "|**0**:Not at all concerned|**0**:No knowledge|**0**: Recommended|**1**:Very Low|**1**:Not at all worried|**1**:Very Low|**1**:Not at all worried|\n",
    "|**1**:Not very concerned|**1**:A little knowledge|**1**: Not Recommended|**2**:Somewhat low|**2**:Not very worried|**2**:Somewhat low|**2**:Not very worried|\n",
    "|**2**:Somewhat concerned|**2**:A lot of knowledge||**3**:Don't know|**3**:Don't know|**3**:Don't know|**3**:Don't know|\n",
    "|**3**:Very concerned|||**4**:Somewhat high|**4**:Somewhat worried|**4**:Somewhat high|**4**:Somewhat worried|\n",
    "||||**5**:Very hig|**5**:Very worried|**5**:Very hig|**5**:Very worried|"
   ]
  },
  {
   "cell_type": "code",
   "execution_count": null,
   "id": "f39d2fe0",
   "metadata": {
    "tags": []
   },
   "outputs": [],
   "source": [
    "# To concatenate the columns that contains attribute of recipient to vaccine\n",
    "df_att = pd.concat([df_h1n1, df_seas], axis=1)#.set_index(\"respondent_id\")\n",
    "\n",
    "# Drop features that leads to leakages \n",
    "df_att.drop(columns=[\"opinion_h1n1_vacc_effective\", \"opinion_seas_vacc_effective\"], inplace=True)\n",
    "\n",
    "# Drop NAN from dataset\n",
    "#df_att.dropna(inplace=True)\n",
    "\n",
    "print(\"df_att shape:\", df_att.shape)\n",
    "df_att.head()"
   ]
  },
  {
   "cell_type": "code",
   "execution_count": null,
   "id": "37fa204c-3763-4345-ac8a-a7cda9489853",
   "metadata": {},
   "outputs": [],
   "source": [
    "# To plot the columns with null value \n",
    "\n",
    "nan_columns = []\n",
    "\n",
    "# loop through any columns that contains null value\n",
    "for column in df_att.columns:\n",
    "    if df_att[column].isnull().any():\n",
    "        nan_columns.append(column)\n",
    "\n",
    "# Plot the columns that has null values in descending order\n",
    "#(df_att[nan_columns].isnull().mean() * 100).sort_values().plot(kind=\"barh\");"
   ]
  },
  {
   "cell_type": "code",
   "execution_count": null,
   "id": "adb763b1",
   "metadata": {},
   "outputs": [],
   "source": [
    "corr = df_att.drop(columns=[\"h1n1_vaccine\", \"seasonal_vaccine\"]).corr()\n",
    "#corr.style.background_gradient(cmap=\"PuBu\")\n",
    "\n",
    "\"\"\"  It has been shown that the data are not correlated with the \n",
    "     most correlation to be a little bit above average.\n",
    "\"\"\""
   ]
  },
  {
   "cell_type": "code",
   "execution_count": null,
   "id": "3fbd7d48",
   "metadata": {
    "tags": []
   },
   "outputs": [],
   "source": [
    "fig, ax = plt.subplots(2, 2, figsize=(10, 6))\n",
    "# Plot for h1n1_vaccine\n",
    "df_att[\"h1n1_vaccine\"].value_counts(normalize=True).plot(kind=\"bar\", ax=ax[0][0]) \n",
    "#plt.xlabel(\"h1n1 & seasonal Vaccine\")\n",
    "#plt.ylabel(\"Normalized Distribution\")\n",
    "#plt.title(\"Distribution of both h1n1 and seasonal vaccination\");\n",
    "\n",
    "# Plot for seasonal vaccine\n",
    "df_att[\"seasonal_vaccine\"].value_counts(normalize=True).plot(kind=\"bar\", ax=ax[0][1]) \n",
    "#plt.xlabel(\"h1n1 & seasonal Vaccine\")\n",
    "#plt.ylabel(\"Normalized Distribution\")\n",
    "\n",
    "# Plot for both h1n1 and seasonal vaccine\n",
    "df_att[[\"h1n1_vaccine\",  \"seasonal_vaccine\"]].value_counts(normalize=True).plot(kind=\"bar\", ax=ax[1][0]) \n",
    "#plt.xlabel(\"h1n1 & seasonal Vaccine\")\n",
    "#plt.ylabel(\"Normalized Distribution\")\n",
    "\n",
    "# Venn-diagram for h1n1 and seasonal vaccine\n",
    "element = round(df_att[[\"h1n1_vaccine\", \"seasonal_vaccine\"]].value_counts(normalize=True), 2).to_list()\n",
    "venn2_unweighted(ax=ax[1][1], subsets=(element[1], element[3], element[2], element[0]))\n",
    "plt.gca().set_facecolor('white')\n",
    "plt.gca().set_axis_on()\n",
    "plt.show();"
   ]
  },
  {
   "cell_type": "code",
   "execution_count": null,
   "id": "b490e5f2",
   "metadata": {
    "tags": []
   },
   "outputs": [],
   "source": [
    "fig, ax = plt.subplots(2, 2, figsize=(10, 6))\n",
    "# Plot for h1n1_vaccine\n",
    "df_att[\"h1n1_concern\"].value_counts(normalize=True).sort_index().plot(kind=\"bar\", ax=ax[0][0]) \n",
    "\n",
    "\n",
    "# Plot for seasonal vaccine\n",
    "df_att[\"h1n1_knowledge\"].value_counts(normalize=True).sort_index().plot(kind=\"bar\", ax=ax[0][1]) \n",
    "\n",
    "\n",
    "# Plot for both h1n1 and seasonal vaccine\n",
    "df_att[\"doctor_recc_h1n1\"].value_counts(normalize=True).sort_index().plot(kind=\"bar\", ax=ax[1][0]) \n",
    "\n",
    "\n",
    "# Venn-diagram for h1n1 and seasonal vaccine\n",
    "df_att[\"opinion_h1n1_risk\"].value_counts(normalize=True).sort_index().plot(kind=\"bar\", ax=ax[1][1]) \n",
    "plt.show();"
   ]
  },
  {
   "cell_type": "code",
   "execution_count": null,
   "id": "39f92827",
   "metadata": {
    "tags": []
   },
   "outputs": [],
   "source": [
    "fig, ax = plt.subplots(2, 2, figsize=(10, 6))\n",
    "# Plot for h1n1_vaccine\n",
    "df_att[\"opinion_h1n1_sick_from_vacc\"].value_counts(normalize=True).sort_index().plot(kind=\"bar\", ax=ax[0][0]) \n",
    "\n",
    "# Plot for seasonal vaccine\n",
    "df_att[\"doctor_recc_seasonal\"].value_counts(normalize=True).sort_index().plot(kind=\"bar\", ax=ax[0][1]) \n",
    "\n",
    "\n",
    "# Plot for both h1n1 and seasonal vaccine\n",
    "df_att[\"opinion_seas_risk\"].value_counts(normalize=True).sort_index().plot(kind=\"bar\", ax=ax[1][0]) \n",
    "\n",
    "\n",
    "# Venn-diagram for h1n1 and seasonal vaccine\n",
    "df_att[\"opinion_seas_sick_from_vacc\"].value_counts(normalize=True).sort_index().plot(kind=\"bar\", ax=ax[1][1]) \n",
    "plt.show();"
   ]
  },
  {
   "cell_type": "code",
   "execution_count": null,
   "id": "086b7cb3",
   "metadata": {
    "tags": []
   },
   "outputs": [],
   "source": [
    "fig, axs = plt.subplots(1, 2, figsize=(10, 4))\n",
    "\n",
    "sns.boxplot(x=\"h1n1_vaccine\", y=\"opinion_h1n1_risk\", data=df_att, ax=axs[0])\n",
    "\n",
    "sns.boxplot(x=\"seasonal_vaccine\", y=\"opinion_seas_risk\", data=df_att, ax=axs[1]);"
   ]
  },
  {
   "cell_type": "markdown",
   "id": "9abcfe34",
   "metadata": {
    "jp-MarkdownHeadingCollapsed": true,
    "tags": []
   },
   "source": [
    "#### Split"
   ]
  },
  {
   "cell_type": "code",
   "execution_count": 21,
   "id": "e756dfef",
   "metadata": {},
   "outputs": [],
   "source": [
    "target = [\"h1n1_vaccine\", \"seasonal_vaccine\"] \n",
    "X = df_att.drop(columns=target)\n",
    "y = df_att[target]"
   ]
  },
  {
   "cell_type": "code",
   "execution_count": 22,
   "id": "031ca699",
   "metadata": {},
   "outputs": [],
   "source": [
    "X_train, X_test, y_train, y_test = train_test_split(X, y, test_size=0.2, random_state=42)\n",
    "assert X_train.shape[0] == (int(0.8 * len(df_att)))"
   ]
  },
  {
   "cell_type": "markdown",
   "id": "a700a8df",
   "metadata": {
    "tags": []
   },
   "source": [
    "### Build Model"
   ]
  },
  {
   "cell_type": "markdown",
   "id": "f23c191a-33d4-4ed4-971f-6d84b527ff65",
   "metadata": {
    "jp-MarkdownHeadingCollapsed": true,
    "tags": []
   },
   "source": [
    "#### Baseline"
   ]
  },
  {
   "cell_type": "code",
   "execution_count": 23,
   "id": "cc5b4b2b-75b7-4b44-8b3b-3c120905efaa",
   "metadata": {},
   "outputs": [
    {
     "name": "stdout",
     "output_type": "stream",
     "text": [
      "Accuracy Baseline: 0.4966\n"
     ]
    }
   ],
   "source": [
    "acc_baseline = y_train.value_counts(normalize=True).max()\n",
    "print(\"Accuracy Baseline:\", round(acc_baseline, 4))"
   ]
  },
  {
   "cell_type": "markdown",
   "id": "15ace922-dbcf-41ac-8a0a-2cc70299f351",
   "metadata": {
    "jp-MarkdownHeadingCollapsed": true,
    "tags": []
   },
   "source": [
    "#### Iterate"
   ]
  },
  {
   "cell_type": "code",
   "execution_count": 24,
   "id": "dedb8f6e-7b4d-4e21-a6a2-4e1c71a74d83",
   "metadata": {},
   "outputs": [],
   "source": [
    "# Build Classifier pipeline that contains all transformers and estimators\n",
    "\n",
    "clf = make_pipeline(\n",
    "    StandardScaler(), KNNImputer(),\n",
    "    MultiOutputClassifier(estimator=LogisticRegression(random_state=42))\n",
    ")"
   ]
  },
  {
   "cell_type": "code",
   "execution_count": 25,
   "id": "f7d4ebbc-5be0-40f2-a137-5d22131e0723",
   "metadata": {},
   "outputs": [],
   "source": [
    "# Build parameter for GridsearchCV\n",
    "\n",
    "params = {\n",
    "    \"knnimputer__n_neighbors\" : range(1, 6, 1),\n",
    "    \"multioutputclassifier__estimator__solver\" : [\"lbfgs\", \"newton-cg\", \"newton-cholesky\"]\n",
    "}"
   ]
  },
  {
   "cell_type": "code",
   "execution_count": 26,
   "id": "0bd9dfe7-0140-4a64-9ee6-2b85f2d6dc00",
   "metadata": {
    "tags": []
   },
   "outputs": [
    {
     "name": "stdout",
     "output_type": "stream",
     "text": [
      "Fitting 5 folds for each of 15 candidates, totalling 75 fits\n"
     ]
    },
    {
     "data": {
      "text/html": [
       "<style>#sk-container-id-1 {color: black;background-color: white;}#sk-container-id-1 pre{padding: 0;}#sk-container-id-1 div.sk-toggleable {background-color: white;}#sk-container-id-1 label.sk-toggleable__label {cursor: pointer;display: block;width: 100%;margin-bottom: 0;padding: 0.3em;box-sizing: border-box;text-align: center;}#sk-container-id-1 label.sk-toggleable__label-arrow:before {content: \"▸\";float: left;margin-right: 0.25em;color: #696969;}#sk-container-id-1 label.sk-toggleable__label-arrow:hover:before {color: black;}#sk-container-id-1 div.sk-estimator:hover label.sk-toggleable__label-arrow:before {color: black;}#sk-container-id-1 div.sk-toggleable__content {max-height: 0;max-width: 0;overflow: hidden;text-align: left;background-color: #f0f8ff;}#sk-container-id-1 div.sk-toggleable__content pre {margin: 0.2em;color: black;border-radius: 0.25em;background-color: #f0f8ff;}#sk-container-id-1 input.sk-toggleable__control:checked~div.sk-toggleable__content {max-height: 200px;max-width: 100%;overflow: auto;}#sk-container-id-1 input.sk-toggleable__control:checked~label.sk-toggleable__label-arrow:before {content: \"▾\";}#sk-container-id-1 div.sk-estimator input.sk-toggleable__control:checked~label.sk-toggleable__label {background-color: #d4ebff;}#sk-container-id-1 div.sk-label input.sk-toggleable__control:checked~label.sk-toggleable__label {background-color: #d4ebff;}#sk-container-id-1 input.sk-hidden--visually {border: 0;clip: rect(1px 1px 1px 1px);clip: rect(1px, 1px, 1px, 1px);height: 1px;margin: -1px;overflow: hidden;padding: 0;position: absolute;width: 1px;}#sk-container-id-1 div.sk-estimator {font-family: monospace;background-color: #f0f8ff;border: 1px dotted black;border-radius: 0.25em;box-sizing: border-box;margin-bottom: 0.5em;}#sk-container-id-1 div.sk-estimator:hover {background-color: #d4ebff;}#sk-container-id-1 div.sk-parallel-item::after {content: \"\";width: 100%;border-bottom: 1px solid gray;flex-grow: 1;}#sk-container-id-1 div.sk-label:hover label.sk-toggleable__label {background-color: #d4ebff;}#sk-container-id-1 div.sk-serial::before {content: \"\";position: absolute;border-left: 1px solid gray;box-sizing: border-box;top: 0;bottom: 0;left: 50%;z-index: 0;}#sk-container-id-1 div.sk-serial {display: flex;flex-direction: column;align-items: center;background-color: white;padding-right: 0.2em;padding-left: 0.2em;position: relative;}#sk-container-id-1 div.sk-item {position: relative;z-index: 1;}#sk-container-id-1 div.sk-parallel {display: flex;align-items: stretch;justify-content: center;background-color: white;position: relative;}#sk-container-id-1 div.sk-item::before, #sk-container-id-1 div.sk-parallel-item::before {content: \"\";position: absolute;border-left: 1px solid gray;box-sizing: border-box;top: 0;bottom: 0;left: 50%;z-index: -1;}#sk-container-id-1 div.sk-parallel-item {display: flex;flex-direction: column;z-index: 1;position: relative;background-color: white;}#sk-container-id-1 div.sk-parallel-item:first-child::after {align-self: flex-end;width: 50%;}#sk-container-id-1 div.sk-parallel-item:last-child::after {align-self: flex-start;width: 50%;}#sk-container-id-1 div.sk-parallel-item:only-child::after {width: 0;}#sk-container-id-1 div.sk-dashed-wrapped {border: 1px dashed gray;margin: 0 0.4em 0.5em 0.4em;box-sizing: border-box;padding-bottom: 0.4em;background-color: white;}#sk-container-id-1 div.sk-label label {font-family: monospace;font-weight: bold;display: inline-block;line-height: 1.2em;}#sk-container-id-1 div.sk-label-container {text-align: center;}#sk-container-id-1 div.sk-container {/* jupyter's `normalize.less` sets `[hidden] { display: none; }` but bootstrap.min.css set `[hidden] { display: none !important; }` so we also need the `!important` here to be able to override the default hidden behavior on the sphinx rendered scikit-learn.org. See: https://github.com/scikit-learn/scikit-learn/issues/21755 */display: inline-block !important;position: relative;}#sk-container-id-1 div.sk-text-repr-fallback {display: none;}</style><div id=\"sk-container-id-1\" class=\"sk-top-container\"><div class=\"sk-text-repr-fallback\"><pre>GridSearchCV(cv=5,\n",
       "             estimator=Pipeline(steps=[(&#x27;standardscaler&#x27;, StandardScaler()),\n",
       "                                       (&#x27;knnimputer&#x27;, KNNImputer()),\n",
       "                                       (&#x27;multioutputclassifier&#x27;,\n",
       "                                        MultiOutputClassifier(estimator=LogisticRegression(random_state=42)))]),\n",
       "             n_jobs=-1,\n",
       "             param_grid={&#x27;knnimputer__n_neighbors&#x27;: range(1, 6),\n",
       "                         &#x27;multioutputclassifier__estimator__solver&#x27;: [&#x27;lbfgs&#x27;,\n",
       "                                                                      &#x27;newton-cg&#x27;,\n",
       "                                                                      &#x27;newton-cholesky&#x27;]},\n",
       "             verbose=1)</pre><b>In a Jupyter environment, please rerun this cell to show the HTML representation or trust the notebook. <br />On GitHub, the HTML representation is unable to render, please try loading this page with nbviewer.org.</b></div><div class=\"sk-container\" hidden><div class=\"sk-item sk-dashed-wrapped\"><div class=\"sk-label-container\"><div class=\"sk-label sk-toggleable\"><input class=\"sk-toggleable__control sk-hidden--visually\" id=\"sk-estimator-id-1\" type=\"checkbox\" ><label for=\"sk-estimator-id-1\" class=\"sk-toggleable__label sk-toggleable__label-arrow\">GridSearchCV</label><div class=\"sk-toggleable__content\"><pre>GridSearchCV(cv=5,\n",
       "             estimator=Pipeline(steps=[(&#x27;standardscaler&#x27;, StandardScaler()),\n",
       "                                       (&#x27;knnimputer&#x27;, KNNImputer()),\n",
       "                                       (&#x27;multioutputclassifier&#x27;,\n",
       "                                        MultiOutputClassifier(estimator=LogisticRegression(random_state=42)))]),\n",
       "             n_jobs=-1,\n",
       "             param_grid={&#x27;knnimputer__n_neighbors&#x27;: range(1, 6),\n",
       "                         &#x27;multioutputclassifier__estimator__solver&#x27;: [&#x27;lbfgs&#x27;,\n",
       "                                                                      &#x27;newton-cg&#x27;,\n",
       "                                                                      &#x27;newton-cholesky&#x27;]},\n",
       "             verbose=1)</pre></div></div></div><div class=\"sk-parallel\"><div class=\"sk-parallel-item\"><div class=\"sk-item\"><div class=\"sk-label-container\"><div class=\"sk-label sk-toggleable\"><input class=\"sk-toggleable__control sk-hidden--visually\" id=\"sk-estimator-id-2\" type=\"checkbox\" ><label for=\"sk-estimator-id-2\" class=\"sk-toggleable__label sk-toggleable__label-arrow\">estimator: Pipeline</label><div class=\"sk-toggleable__content\"><pre>Pipeline(steps=[(&#x27;standardscaler&#x27;, StandardScaler()),\n",
       "                (&#x27;knnimputer&#x27;, KNNImputer()),\n",
       "                (&#x27;multioutputclassifier&#x27;,\n",
       "                 MultiOutputClassifier(estimator=LogisticRegression(random_state=42)))])</pre></div></div></div><div class=\"sk-serial\"><div class=\"sk-item\"><div class=\"sk-serial\"><div class=\"sk-item\"><div class=\"sk-estimator sk-toggleable\"><input class=\"sk-toggleable__control sk-hidden--visually\" id=\"sk-estimator-id-3\" type=\"checkbox\" ><label for=\"sk-estimator-id-3\" class=\"sk-toggleable__label sk-toggleable__label-arrow\">StandardScaler</label><div class=\"sk-toggleable__content\"><pre>StandardScaler()</pre></div></div></div><div class=\"sk-item\"><div class=\"sk-estimator sk-toggleable\"><input class=\"sk-toggleable__control sk-hidden--visually\" id=\"sk-estimator-id-4\" type=\"checkbox\" ><label for=\"sk-estimator-id-4\" class=\"sk-toggleable__label sk-toggleable__label-arrow\">KNNImputer</label><div class=\"sk-toggleable__content\"><pre>KNNImputer()</pre></div></div></div><div class=\"sk-item sk-dashed-wrapped\"><div class=\"sk-label-container\"><div class=\"sk-label sk-toggleable\"><input class=\"sk-toggleable__control sk-hidden--visually\" id=\"sk-estimator-id-5\" type=\"checkbox\" ><label for=\"sk-estimator-id-5\" class=\"sk-toggleable__label sk-toggleable__label-arrow\">multioutputclassifier: MultiOutputClassifier</label><div class=\"sk-toggleable__content\"><pre>MultiOutputClassifier(estimator=LogisticRegression(random_state=42))</pre></div></div></div><div class=\"sk-parallel\"><div class=\"sk-parallel-item\"><div class=\"sk-item\"><div class=\"sk-label-container\"><div class=\"sk-label sk-toggleable\"><input class=\"sk-toggleable__control sk-hidden--visually\" id=\"sk-estimator-id-6\" type=\"checkbox\" ><label for=\"sk-estimator-id-6\" class=\"sk-toggleable__label sk-toggleable__label-arrow\">estimator: LogisticRegression</label><div class=\"sk-toggleable__content\"><pre>LogisticRegression(random_state=42)</pre></div></div></div><div class=\"sk-serial\"><div class=\"sk-item\"><div class=\"sk-estimator sk-toggleable\"><input class=\"sk-toggleable__control sk-hidden--visually\" id=\"sk-estimator-id-7\" type=\"checkbox\" ><label for=\"sk-estimator-id-7\" class=\"sk-toggleable__label sk-toggleable__label-arrow\">LogisticRegression</label><div class=\"sk-toggleable__content\"><pre>LogisticRegression(random_state=42)</pre></div></div></div></div></div></div></div></div></div></div></div></div></div></div></div></div></div>"
      ],
      "text/plain": [
       "GridSearchCV(cv=5,\n",
       "             estimator=Pipeline(steps=[('standardscaler', StandardScaler()),\n",
       "                                       ('knnimputer', KNNImputer()),\n",
       "                                       ('multioutputclassifier',\n",
       "                                        MultiOutputClassifier(estimator=LogisticRegression(random_state=42)))]),\n",
       "             n_jobs=-1,\n",
       "             param_grid={'knnimputer__n_neighbors': range(1, 6),\n",
       "                         'multioutputclassifier__estimator__solver': ['lbfgs',\n",
       "                                                                      'newton-cg',\n",
       "                                                                      'newton-cholesky']},\n",
       "             verbose=1)"
      ]
     },
     "execution_count": 26,
     "metadata": {},
     "output_type": "execute_result"
    }
   ],
   "source": [
    "# Build and Fit GridSearchCV into 5 cross-validations\n",
    "\n",
    "model = GridSearchCV(estimator=clf, param_grid=params, n_jobs=-1, cv=5, verbose=1)\n",
    "model.fit(X_train, y_train)"
   ]
  },
  {
   "cell_type": "code",
   "execution_count": 27,
   "id": "328adaef-e74f-4c4f-9eb7-b29f2eef10bd",
   "metadata": {},
   "outputs": [
    {
     "data": {
      "text/html": [
       "<div>\n",
       "<style scoped>\n",
       "    .dataframe tbody tr th:only-of-type {\n",
       "        vertical-align: middle;\n",
       "    }\n",
       "\n",
       "    .dataframe tbody tr th {\n",
       "        vertical-align: top;\n",
       "    }\n",
       "\n",
       "    .dataframe thead th {\n",
       "        text-align: right;\n",
       "    }\n",
       "</style>\n",
       "<table border=\"1\" class=\"dataframe\">\n",
       "  <thead>\n",
       "    <tr style=\"text-align: right;\">\n",
       "      <th></th>\n",
       "      <th>mean_fit_time</th>\n",
       "      <th>std_fit_time</th>\n",
       "      <th>mean_score_time</th>\n",
       "      <th>std_score_time</th>\n",
       "      <th>param_knnimputer__n_neighbors</th>\n",
       "      <th>param_multioutputclassifier__estimator__solver</th>\n",
       "      <th>params</th>\n",
       "      <th>split0_test_score</th>\n",
       "      <th>split1_test_score</th>\n",
       "      <th>split2_test_score</th>\n",
       "      <th>split3_test_score</th>\n",
       "      <th>split4_test_score</th>\n",
       "      <th>mean_test_score</th>\n",
       "      <th>std_test_score</th>\n",
       "      <th>rank_test_score</th>\n",
       "    </tr>\n",
       "  </thead>\n",
       "  <tbody>\n",
       "    <tr>\n",
       "      <th>0</th>\n",
       "      <td>7.047638</td>\n",
       "      <td>0.247091</td>\n",
       "      <td>1.666455</td>\n",
       "      <td>0.131603</td>\n",
       "      <td>1</td>\n",
       "      <td>lbfgs</td>\n",
       "      <td>{'knnimputer__n_neighbors': 1, 'multioutputcla...</td>\n",
       "      <td>0.611514</td>\n",
       "      <td>0.599111</td>\n",
       "      <td>0.610110</td>\n",
       "      <td>0.597707</td>\n",
       "      <td>0.600047</td>\n",
       "      <td>0.603698</td>\n",
       "      <td>0.005873</td>\n",
       "      <td>13</td>\n",
       "    </tr>\n",
       "    <tr>\n",
       "      <th>1</th>\n",
       "      <td>7.379752</td>\n",
       "      <td>0.090112</td>\n",
       "      <td>1.696690</td>\n",
       "      <td>0.104938</td>\n",
       "      <td>1</td>\n",
       "      <td>newton-cg</td>\n",
       "      <td>{'knnimputer__n_neighbors': 1, 'multioutputcla...</td>\n",
       "      <td>0.611514</td>\n",
       "      <td>0.599111</td>\n",
       "      <td>0.610110</td>\n",
       "      <td>0.597707</td>\n",
       "      <td>0.600047</td>\n",
       "      <td>0.603698</td>\n",
       "      <td>0.005873</td>\n",
       "      <td>13</td>\n",
       "    </tr>\n",
       "    <tr>\n",
       "      <th>2</th>\n",
       "      <td>7.022736</td>\n",
       "      <td>0.240588</td>\n",
       "      <td>1.626706</td>\n",
       "      <td>0.133875</td>\n",
       "      <td>1</td>\n",
       "      <td>newton-cholesky</td>\n",
       "      <td>{'knnimputer__n_neighbors': 1, 'multioutputcla...</td>\n",
       "      <td>0.611514</td>\n",
       "      <td>0.599111</td>\n",
       "      <td>0.610110</td>\n",
       "      <td>0.597707</td>\n",
       "      <td>0.600047</td>\n",
       "      <td>0.603698</td>\n",
       "      <td>0.005873</td>\n",
       "      <td>13</td>\n",
       "    </tr>\n",
       "    <tr>\n",
       "      <th>3</th>\n",
       "      <td>7.086704</td>\n",
       "      <td>0.337927</td>\n",
       "      <td>1.746912</td>\n",
       "      <td>0.188886</td>\n",
       "      <td>2</td>\n",
       "      <td>lbfgs</td>\n",
       "      <td>{'knnimputer__n_neighbors': 2, 'multioutputcla...</td>\n",
       "      <td>0.611982</td>\n",
       "      <td>0.599579</td>\n",
       "      <td>0.612918</td>\n",
       "      <td>0.598409</td>\n",
       "      <td>0.600515</td>\n",
       "      <td>0.604681</td>\n",
       "      <td>0.006386</td>\n",
       "      <td>10</td>\n",
       "    </tr>\n",
       "    <tr>\n",
       "      <th>4</th>\n",
       "      <td>7.342747</td>\n",
       "      <td>0.171776</td>\n",
       "      <td>1.756515</td>\n",
       "      <td>0.238451</td>\n",
       "      <td>2</td>\n",
       "      <td>newton-cg</td>\n",
       "      <td>{'knnimputer__n_neighbors': 2, 'multioutputcla...</td>\n",
       "      <td>0.611982</td>\n",
       "      <td>0.599579</td>\n",
       "      <td>0.612918</td>\n",
       "      <td>0.598409</td>\n",
       "      <td>0.600515</td>\n",
       "      <td>0.604681</td>\n",
       "      <td>0.006386</td>\n",
       "      <td>10</td>\n",
       "    </tr>\n",
       "  </tbody>\n",
       "</table>\n",
       "</div>"
      ],
      "text/plain": [
       "   mean_fit_time  std_fit_time  mean_score_time  std_score_time  \\\n",
       "0       7.047638      0.247091         1.666455        0.131603   \n",
       "1       7.379752      0.090112         1.696690        0.104938   \n",
       "2       7.022736      0.240588         1.626706        0.133875   \n",
       "3       7.086704      0.337927         1.746912        0.188886   \n",
       "4       7.342747      0.171776         1.756515        0.238451   \n",
       "\n",
       "  param_knnimputer__n_neighbors  \\\n",
       "0                             1   \n",
       "1                             1   \n",
       "2                             1   \n",
       "3                             2   \n",
       "4                             2   \n",
       "\n",
       "  param_multioutputclassifier__estimator__solver  \\\n",
       "0                                          lbfgs   \n",
       "1                                      newton-cg   \n",
       "2                                newton-cholesky   \n",
       "3                                          lbfgs   \n",
       "4                                      newton-cg   \n",
       "\n",
       "                                              params  split0_test_score  \\\n",
       "0  {'knnimputer__n_neighbors': 1, 'multioutputcla...           0.611514   \n",
       "1  {'knnimputer__n_neighbors': 1, 'multioutputcla...           0.611514   \n",
       "2  {'knnimputer__n_neighbors': 1, 'multioutputcla...           0.611514   \n",
       "3  {'knnimputer__n_neighbors': 2, 'multioutputcla...           0.611982   \n",
       "4  {'knnimputer__n_neighbors': 2, 'multioutputcla...           0.611982   \n",
       "\n",
       "   split1_test_score  split2_test_score  split3_test_score  split4_test_score  \\\n",
       "0           0.599111           0.610110           0.597707           0.600047   \n",
       "1           0.599111           0.610110           0.597707           0.600047   \n",
       "2           0.599111           0.610110           0.597707           0.600047   \n",
       "3           0.599579           0.612918           0.598409           0.600515   \n",
       "4           0.599579           0.612918           0.598409           0.600515   \n",
       "\n",
       "   mean_test_score  std_test_score  rank_test_score  \n",
       "0         0.603698        0.005873               13  \n",
       "1         0.603698        0.005873               13  \n",
       "2         0.603698        0.005873               13  \n",
       "3         0.604681        0.006386               10  \n",
       "4         0.604681        0.006386               10  "
      ]
     },
     "execution_count": 27,
     "metadata": {},
     "output_type": "execute_result"
    }
   ],
   "source": [
    "# Read result into DataFrame\n",
    "\n",
    "cv_result = pd.DataFrame(model.cv_results_)\n",
    "cv_result.head()"
   ]
  },
  {
   "cell_type": "code",
   "execution_count": 28,
   "id": "0de5994f-c5ea-49fd-9fbe-afb2b9930501",
   "metadata": {},
   "outputs": [
    {
     "name": "stdout",
     "output_type": "stream",
     "text": [
      "Model Best Score: 0.6077229113035338\n",
      "Model Best Parameter: {'knnimputer__n_neighbors': 5, 'multioutputclassifier__estimator__solver': 'lbfgs'}\n"
     ]
    }
   ],
   "source": [
    "print(\"Model Best Score:\", model.best_score_)\n",
    "print(\"Model Best Parameter:\", model.best_params_)\n",
    "# From the above it is shown that the best parameter is at knnimputer__n_neighbors=5 using estimator \"lbfgs\""
   ]
  },
  {
   "cell_type": "markdown",
   "id": "97e30224-4af8-490c-8ab0-4fa12470102f",
   "metadata": {
    "tags": []
   },
   "source": [
    "#### Evaluate"
   ]
  },
  {
   "cell_type": "code",
   "execution_count": 107,
   "id": "4087f813-48bc-4c22-a731-5b068e317c8b",
   "metadata": {
    "tags": []
   },
   "outputs": [],
   "source": [
    "y_train_proba = model.predict_proba(X_train)\n",
    "\n",
    "y_train_pred = pd.DataFrame(\n",
    "    {\n",
    "        \"h1n1_vaccine\": y_train_proba[0][:, 1],\n",
    "        \"seasonal_vaccine\": y_train_proba[1][:, 1],\n",
    "    },\n",
    "    index = y_train.index\n",
    ")"
   ]
  },
  {
   "cell_type": "code",
   "execution_count": 108,
   "id": "dea30e80-1919-4ef9-bdcf-4a219d649e10",
   "metadata": {
    "tags": []
   },
   "outputs": [],
   "source": [
    "y_predict_proba = model.predict_proba(X_test)\n",
    "\n",
    "y_test_pred = pd.DataFrame(\n",
    "    {\n",
    "        \"h1n1_vaccine\": y_predict_proba[0][:, 1],\n",
    "        \"seasonal_vaccine\": y_predict_proba[1][:, 1],\n",
    "    },\n",
    "    index = y_test.index\n",
    ")\n",
    "# y_pred.head()"
   ]
  },
  {
   "cell_type": "code",
   "execution_count": 109,
   "id": "2415af9e-4bb2-4408-9a60-3ad14b260dca",
   "metadata": {},
   "outputs": [
    {
     "name": "stdout",
     "output_type": "stream",
     "text": [
      "baseline accuracy: 0.4966\n",
      "training accuracy: 0.7904\n",
      "testing accuracy: 0.7956\n"
     ]
    }
   ],
   "source": [
    "print(\"baseline accuracy:\", round(acc_baseline, 4))\n",
    "print(\"training accuracy:\", round(roc_auc_score(y_train, y_train_pred), 4))\n",
    "print(\"testing accuracy:\", round(roc_auc_score(y_test, y_test_pred), 4))"
   ]
  },
  {
   "cell_type": "code",
   "execution_count": null,
   "id": "96207255-7fa6-408b-bcd7-a1d14f0a0499",
   "metadata": {
    "jupyter": {
     "source_hidden": true
    },
    "tags": []
   },
   "outputs": [],
   "source": []
  },
  {
   "cell_type": "code",
   "execution_count": null,
   "id": "336903dc-5d03-40b3-af62-a69b64e8f95d",
   "metadata": {
    "jupyter": {
     "source_hidden": true
    },
    "tags": []
   },
   "outputs": [],
   "source": []
  },
  {
   "cell_type": "code",
   "execution_count": null,
   "id": "57c252f9",
   "metadata": {
    "jupyter": {
     "source_hidden": true
    },
    "tags": []
   },
   "outputs": [],
   "source": [
    "train_accuracy = []\n",
    "test_accuracy = []\n",
    "\n",
    "for d in depth_hyperparams:\n",
    "    # Create test clf \n",
    "    test_clf_dt = DecisionTreeClassifier(max_depth=d, random_state=42)\n",
    "    \n",
    "    # Fit clf to training data and append the result to train_accuracy\n",
    "    test_clf_dt.fit(X_train, y_train)\n",
    "    \n",
    "    train_accuracy.append(test_clf_dt.score(X_train, y_train))\n",
    "    \n",
    "    test_accuracy.append(test_clf_dt.score(X_test, y_test))\n",
    "    \n",
    "print(\"Training Accuracy is:\", train_accuracy[:10])\n",
    "print(\"Testing Accuracy is:\", test_accuracy[:10])"
   ]
  },
  {
   "cell_type": "code",
   "execution_count": null,
   "id": "d8d0c371",
   "metadata": {
    "jupyter": {
     "source_hidden": true
    },
    "tags": []
   },
   "outputs": [],
   "source": [
    "plt.plot(depth_hyperparams, train_accuracy, label='Training')\n",
    "plt.plot(depth_hyperparams, test_accuracy, label='Testing')"
   ]
  },
  {
   "cell_type": "markdown",
   "id": "ebb2a727",
   "metadata": {
    "tags": []
   },
   "source": [
    "### Communicate"
   ]
  },
  {
   "cell_type": "code",
   "execution_count": 121,
   "id": "445e2e38-5205-4f7e-a804-c0b08ada75e0",
   "metadata": {},
   "outputs": [
    {
     "data": {
      "image/png": "[encoded data removed]",
      "text/plain": [
       "<Figure size 700x350 with 2 Axes>"
      ]
     },
     "metadata": {},
     "output_type": "display_data"
    }
   ],
   "source": [
    "# Plot the roc_auc curve \n",
    "\n",
    "def plot_roc(y_true, y_pred, title, ax):\n",
    "    \n",
    "    fpr, tpr, thresholds = roc_curve(y_true, y_pred)\n",
    "    \n",
    "    ax.plot(fpr, tpr)\n",
    "    \n",
    "    ax.plot([0, 1], [0, 1], color='orange', linestyle='--')\n",
    "    \n",
    "    ax.set_ylabel('TPR')\n",
    "    ax.set_xlabel('FPR')\n",
    "    ax.set_title(f\"{title}: AUC = {round(roc_auc_score(y_true, y_pred), 4)}\")\n",
    "    \n",
    "fig, ax = plt.subplots(1, 2, figsize=(7, 3.5))\n",
    "\n",
    "plot_roc(\n",
    "    y_test['h1n1_vaccine'], y_test_pred['h1n1_vaccine'], \n",
    "    'h1n1_vaccine', ax=ax[0]\n",
    ")\n",
    "\n",
    "plot_roc(\n",
    "    y_test['seasonal_vaccine'], y_test_pred['seasonal_vaccine'], \n",
    "    'seasonal_vaccine', ax=ax[1]\n",
    ")\n",
    "\n",
    "fig.tight_layout()"
   ]
  },
  {
   "cell_type": "markdown",
   "id": "9e61f080-467c-4822-9184-92faaa699f55",
   "metadata": {},
   "source": [
    "#### Submission"
   ]
  },
  {
   "cell_type": "code",
   "execution_count": 127,
   "id": "e566449e-dc77-4174-8f49-720f404170b2",
   "metadata": {
    "tags": []
   },
   "outputs": [],
   "source": [
    "# Read submission format into dataframe \n",
    "sub_format = pd.read_csv(\"submission_format.csv\").set_index(\"respondent_id\")\n",
    "\n",
    "# Extract the index from df_att\n",
    "index = (df_att.reset_index()\n",
    "         .columns.drop([\"h1n1_vaccine\", \"seasonal_vaccine\"])\n",
    "         .to_list())\n",
    "\n",
    "# Read the testing data into DataFrame using only data from df_att\n",
    "test_data = (pd.read_csv(\"test_set_features.csv\", usecols=index, index_col=\"respondent_id\")\n",
    "         .reindex(columns=df_att.columns) # Shuffle the new column so it follows that of df_att\n",
    "         .drop(columns=[\"h1n1_vaccine\", \"seasonal_vaccine\"])) # Drop the target columns from the DataFrame\n",
    "\n",
    "assert sub_format.index.all() == test_data.index.all()"
   ]
  },
  {
   "cell_type": "code",
   "execution_count": 128,
   "id": "4be160b6-95f6-4bd7-b79a-df569c290e6e",
   "metadata": {
    "tags": []
   },
   "outputs": [],
   "source": []
  },
  {
   "cell_type": "code",
   "execution_count": 129,
   "id": "d9bb5613-c108-453e-adcd-47307f46567a",
   "metadata": {},
   "outputs": [
    {
     "data": {
      "text/html": [
       "<div>\n",
       "<style scoped>\n",
       "    .dataframe tbody tr th:only-of-type {\n",
       "        vertical-align: middle;\n",
       "    }\n",
       "\n",
       "    .dataframe tbody tr th {\n",
       "        vertical-align: top;\n",
       "    }\n",
       "\n",
       "    .dataframe thead th {\n",
       "        text-align: right;\n",
       "    }\n",
       "</style>\n",
       "<table border=\"1\" class=\"dataframe\">\n",
       "  <thead>\n",
       "    <tr style=\"text-align: right;\">\n",
       "      <th></th>\n",
       "      <th>h1n1_vaccine</th>\n",
       "      <th>seasonal_vaccine</th>\n",
       "    </tr>\n",
       "    <tr>\n",
       "      <th>respondent_id</th>\n",
       "      <th></th>\n",
       "      <th></th>\n",
       "    </tr>\n",
       "  </thead>\n",
       "  <tbody>\n",
       "    <tr>\n",
       "      <th>26707</th>\n",
       "      <td>0.080041</td>\n",
       "      <td>0.266708</td>\n",
       "    </tr>\n",
       "    <tr>\n",
       "      <th>26708</th>\n",
       "      <td>0.061750</td>\n",
       "      <td>0.194722</td>\n",
       "    </tr>\n",
       "    <tr>\n",
       "      <th>26709</th>\n",
       "      <td>0.285088</td>\n",
       "      <td>0.494880</td>\n",
       "    </tr>\n",
       "    <tr>\n",
       "      <th>26710</th>\n",
       "      <td>0.434902</td>\n",
       "      <td>0.779786</td>\n",
       "    </tr>\n",
       "    <tr>\n",
       "      <th>26711</th>\n",
       "      <td>0.122457</td>\n",
       "      <td>0.561267</td>\n",
       "    </tr>\n",
       "  </tbody>\n",
       "</table>\n",
       "</div>"
      ],
      "text/plain": [
       "               h1n1_vaccine  seasonal_vaccine\n",
       "respondent_id                                \n",
       "26707              0.080041          0.266708\n",
       "26708              0.061750          0.194722\n",
       "26709              0.285088          0.494880\n",
       "26710              0.434902          0.779786\n",
       "26711              0.122457          0.561267"
      ]
     },
     "execution_count": 129,
     "metadata": {},
     "output_type": "execute_result"
    }
   ],
   "source": [
    "# Predict testing data\n",
    "test_predict = model.predict_proba(test_data)\n",
    "\n",
    "# Create dataframe with testing data\n",
    "test_pred = pd.DataFrame(\n",
    "    {\n",
    "        \"h1n1_vaccine\": test_predict[0][:, 1],\n",
    "        \"seasonal_vaccine\": test_predict[1][:, 1],\n",
    "    },\n",
    "    index = test_.index\n",
    ")\n",
    "test_pred.head()"
   ]
  },
  {
   "cell_type": "code",
   "execution_count": 130,
   "id": "b4863bcb-336d-46f2-8fda-8146221bc2ee",
   "metadata": {},
   "outputs": [],
   "source": [
    "test_pred.to_csv(\"my_submission_lr_tuned.csv\", index=True)"
   ]
  },
  {
   "cell_type": "code",
   "execution_count": 131,
   "id": "cc1eb659-dfd8-49b2-9204-e490c329df4f",
   "metadata": {},
   "outputs": [
    {
     "ename": "ValueError",
     "evalue": "Input y_true contains NaN.",
     "output_type": "error",
     "traceback": [
      "\u001b[1;31m---------------------------------------------------------------------------\u001b[0m",
      "\u001b[1;31mValueError\u001b[0m                                Traceback (most recent call last)",
      "Cell \u001b[1;32mIn[131], line 1\u001b[0m\n\u001b[1;32m----> 1\u001b[0m \u001b[43mroc_auc_score\u001b[49m\u001b[43m(\u001b[49m\u001b[43mtest_data\u001b[49m\u001b[43m,\u001b[49m\u001b[43m \u001b[49m\u001b[43mtest_pred\u001b[49m\u001b[43m)\u001b[49m\n",
      "File \u001b[1;32m~\\anaconda3\\lib\\site-packages\\sklearn\\metrics\\_ranking.py:549\u001b[0m, in \u001b[0;36mroc_auc_score\u001b[1;34m(y_true, y_score, average, sample_weight, max_fpr, multi_class, labels)\u001b[0m\n\u001b[0;32m    365\u001b[0m \u001b[38;5;28;01mdef\u001b[39;00m \u001b[38;5;21mroc_auc_score\u001b[39m(\n\u001b[0;32m    366\u001b[0m     y_true,\n\u001b[0;32m    367\u001b[0m     y_score,\n\u001b[1;32m   (...)\u001b[0m\n\u001b[0;32m    373\u001b[0m     labels\u001b[38;5;241m=\u001b[39m\u001b[38;5;28;01mNone\u001b[39;00m,\n\u001b[0;32m    374\u001b[0m ):\n\u001b[0;32m    375\u001b[0m     \u001b[38;5;124;03m\"\"\"Compute Area Under the Receiver Operating Characteristic Curve (ROC AUC) \\\u001b[39;00m\n\u001b[0;32m    376\u001b[0m \u001b[38;5;124;03m    from prediction scores.\u001b[39;00m\n\u001b[0;32m    377\u001b[0m \n\u001b[1;32m   (...)\u001b[0m\n\u001b[0;32m    546\u001b[0m \u001b[38;5;124;03m    array([0.81..., 0.84... , 0.93..., 0.87..., 0.94...])\u001b[39;00m\n\u001b[0;32m    547\u001b[0m \u001b[38;5;124;03m    \"\"\"\u001b[39;00m\n\u001b[1;32m--> 549\u001b[0m     y_type \u001b[38;5;241m=\u001b[39m \u001b[43mtype_of_target\u001b[49m\u001b[43m(\u001b[49m\u001b[43my_true\u001b[49m\u001b[43m,\u001b[49m\u001b[43m \u001b[49m\u001b[43minput_name\u001b[49m\u001b[38;5;241;43m=\u001b[39;49m\u001b[38;5;124;43m\"\u001b[39;49m\u001b[38;5;124;43my_true\u001b[39;49m\u001b[38;5;124;43m\"\u001b[39;49m\u001b[43m)\u001b[49m\n\u001b[0;32m    550\u001b[0m     y_true \u001b[38;5;241m=\u001b[39m check_array(y_true, ensure_2d\u001b[38;5;241m=\u001b[39m\u001b[38;5;28;01mFalse\u001b[39;00m, dtype\u001b[38;5;241m=\u001b[39m\u001b[38;5;28;01mNone\u001b[39;00m)\n\u001b[0;32m    551\u001b[0m     y_score \u001b[38;5;241m=\u001b[39m check_array(y_score, ensure_2d\u001b[38;5;241m=\u001b[39m\u001b[38;5;28;01mFalse\u001b[39;00m)\n",
      "File \u001b[1;32m~\\anaconda3\\lib\\site-packages\\sklearn\\utils\\multiclass.py:358\u001b[0m, in \u001b[0;36mtype_of_target\u001b[1;34m(y, input_name)\u001b[0m\n\u001b[0;32m    356\u001b[0m     data \u001b[38;5;241m=\u001b[39m y\u001b[38;5;241m.\u001b[39mdata \u001b[38;5;28;01mif\u001b[39;00m issparse(y) \u001b[38;5;28;01melse\u001b[39;00m y\n\u001b[0;32m    357\u001b[0m     \u001b[38;5;28;01mif\u001b[39;00m xp\u001b[38;5;241m.\u001b[39many(data \u001b[38;5;241m!=\u001b[39m data\u001b[38;5;241m.\u001b[39mastype(\u001b[38;5;28mint\u001b[39m)):\n\u001b[1;32m--> 358\u001b[0m         \u001b[43m_assert_all_finite\u001b[49m\u001b[43m(\u001b[49m\u001b[43mdata\u001b[49m\u001b[43m,\u001b[49m\u001b[43m \u001b[49m\u001b[43minput_name\u001b[49m\u001b[38;5;241;43m=\u001b[39;49m\u001b[43minput_name\u001b[49m\u001b[43m)\u001b[49m\n\u001b[0;32m    359\u001b[0m         \u001b[38;5;28;01mreturn\u001b[39;00m \u001b[38;5;124m\"\u001b[39m\u001b[38;5;124mcontinuous\u001b[39m\u001b[38;5;124m\"\u001b[39m \u001b[38;5;241m+\u001b[39m suffix\n\u001b[0;32m    361\u001b[0m \u001b[38;5;66;03m# Check multiclass\u001b[39;00m\n",
      "File \u001b[1;32m~\\anaconda3\\lib\\site-packages\\sklearn\\utils\\validation.py:161\u001b[0m, in \u001b[0;36m_assert_all_finite\u001b[1;34m(X, allow_nan, msg_dtype, estimator_name, input_name)\u001b[0m\n\u001b[0;32m    144\u001b[0m \u001b[38;5;28;01mif\u001b[39;00m estimator_name \u001b[38;5;129;01mand\u001b[39;00m input_name \u001b[38;5;241m==\u001b[39m \u001b[38;5;124m\"\u001b[39m\u001b[38;5;124mX\u001b[39m\u001b[38;5;124m\"\u001b[39m \u001b[38;5;129;01mand\u001b[39;00m has_nan_error:\n\u001b[0;32m    145\u001b[0m     \u001b[38;5;66;03m# Improve the error message on how to handle missing values in\u001b[39;00m\n\u001b[0;32m    146\u001b[0m     \u001b[38;5;66;03m# scikit-learn.\u001b[39;00m\n\u001b[0;32m    147\u001b[0m     msg_err \u001b[38;5;241m+\u001b[39m\u001b[38;5;241m=\u001b[39m (\n\u001b[0;32m    148\u001b[0m         \u001b[38;5;124mf\u001b[39m\u001b[38;5;124m\"\u001b[39m\u001b[38;5;130;01m\\n\u001b[39;00m\u001b[38;5;132;01m{\u001b[39;00mestimator_name\u001b[38;5;132;01m}\u001b[39;00m\u001b[38;5;124m does not accept missing values\u001b[39m\u001b[38;5;124m\"\u001b[39m\n\u001b[0;32m    149\u001b[0m         \u001b[38;5;124m\"\u001b[39m\u001b[38;5;124m encoded as NaN natively. For supervised learning, you might want\u001b[39m\u001b[38;5;124m\"\u001b[39m\n\u001b[1;32m   (...)\u001b[0m\n\u001b[0;32m    159\u001b[0m         \u001b[38;5;124m\"\u001b[39m\u001b[38;5;124m#estimators-that-handle-nan-values\u001b[39m\u001b[38;5;124m\"\u001b[39m\n\u001b[0;32m    160\u001b[0m     )\n\u001b[1;32m--> 161\u001b[0m \u001b[38;5;28;01mraise\u001b[39;00m \u001b[38;5;167;01mValueError\u001b[39;00m(msg_err)\n",
      "\u001b[1;31mValueError\u001b[0m: Input y_true contains NaN."
     ]
    }
   ],
   "source": [
    "roc_auc_score(test_data, test_pred)"
   ]
  },
  {
   "cell_type": "code",
   "execution_count": null,
   "id": "32a46215-4770-4a68-bd0d-8986bc267de2",
   "metadata": {},
   "outputs": [],
   "source": []
  }
 ],
 "metadata": {
  "kernelspec": {
   "display_name": "Python 3 (ipykernel)",
   "language": "python",
   "name": "python3"
  },
  "language_info": {
   "codemirror_mode": {
    "name": "ipython",
    "version": 3
   },
   "file_extension": ".py",
   "mimetype": "text/x-python",
   "name": "python",
   "nbconvert_exporter": "python",
   "pygments_lexer": "ipython3",
   "version": "3.10.9"
  }
 },
 "nbformat": 4,
 "nbformat_minor": 5
}
